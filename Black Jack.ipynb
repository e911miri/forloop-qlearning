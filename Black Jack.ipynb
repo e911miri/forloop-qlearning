{
 "cells": [
  {
   "cell_type": "code",
   "execution_count": 1,
   "metadata": {
    "collapsed": true
   },
   "outputs": [],
   "source": [
    "import math\n",
    "import random\n",
    "#each value card has a 1:13 chance of being selected (we don't care about suits for blackjack)\n",
    "#cards (value): Ace (1), 2, 3, 4, 5, 6, 7, 8, 9, 10, Jack (10), Queen (10), King (10)\n",
    "\n",
    "def randomCard():\n",
    "    card = random.randint(1,13)\n",
    "    if card > 10:\n",
    "        card = 10\n",
    "    return card\n",
    "\n",
    "#A hand is just a tuple e.g. (14, False), a total card value of 14 without a useable ace\n",
    "#accepts a hand, if the Ace can be an 11 without busting the hand, it's useable\n",
    "def useable_ace(hand):\n",
    "    val, ace = hand\n",
    "    return ((ace) and ((val + 10) <= 21))\n",
    "\n",
    "def totalValue(hand):\n",
    "    val, ace = hand\n",
    "    if (useable_ace(hand)):\n",
    "        return (val + 10)\n",
    "    else:\n",
    "        return val\n",
    "\n",
    "def add_card(hand, card):\n",
    "    val, ace = hand\n",
    "    if (card == 1):\n",
    "        ace = True\n",
    "    return (val + card, ace)\n",
    "#The first is first dealt a single card, this method finishes off his hand\n",
    "def eval_dealer(dealer_hand):\n",
    "    while (totalValue(dealer_hand) < 17):\n",
    "        dealer_hand = add_card(dealer_hand, randomCard())\n",
    "    return dealer_hand\n",
    "\n",
    "#state: (player total, useable_ace), (dealer total, useable ace), game status; e.g. ((15, True), (9, False), 1)\n",
    "#stay or hit => dec == 0 or 1\n",
    "def play(state, dec):\n",
    "    #evaluate\n",
    "    player_hand = state[0] #val, useable ace\n",
    "    dealer_hand = state[1]\n",
    "    if dec == 0: #action = stay\n",
    "        #evaluate game; dealer plays\n",
    "        dealer_hand = eval_dealer(dealer_hand)\n",
    "\n",
    "        player_tot = totalValue(player_hand)\n",
    "        dealer_tot = totalValue(dealer_hand)\n",
    "        status = 1\n",
    "        if (dealer_tot > 21):\n",
    "            status = 2 #player wins\n",
    "        elif (dealer_tot == player_tot):\n",
    "            status = 3 #draw\n",
    "        elif (dealer_tot < player_tot):\n",
    "            status = 2 #player wins\n",
    "        elif (dealer_tot > player_tot):\n",
    "            status = 4 #player loses\n",
    "\n",
    "    elif dec == 1: #action = hit\n",
    "        #if hit, add new card to player's hand\n",
    "        player_hand = add_card(player_hand, randomCard())\n",
    "        d_hand = eval_dealer(dealer_hand)\n",
    "        player_tot = totalValue(player_hand)\n",
    "        status = 1\n",
    "        if (player_tot == 21):\n",
    "            if (totalValue(d_hand) == 21):\n",
    "                status = 3 #draw\n",
    "            else:\n",
    "                status = 2 #player wins!\n",
    "        elif (player_tot > 21):\n",
    "            status = 4 #player loses\n",
    "        elif (player_tot < 21):\n",
    "            #game still in progress\n",
    "            status = 1\n",
    "    state = (player_hand, dealer_hand, status)\n",
    "\n",
    "    return state\n",
    "\n",
    "#start a game of blackjack, returns a random initial state\n",
    "def initGame():\n",
    "    status = 1 #1=in progress; 2=player won; 3=draw; 4 = dealer won/player loses\n",
    "    player_hand = add_card((0, False), randomCard())\n",
    "    player_hand = add_card(player_hand, randomCard())\n",
    "    dealer_hand = add_card((0, False), randomCard())\n",
    "    #evaluate if player wins from first hand\n",
    "    if totalValue(player_hand) == 21:\n",
    "        if totalValue(dealer_hand) != 21:\n",
    "            status = 2 #player wins after first deal!\n",
    "        else:\n",
    "            status = 3 #draw\n",
    "\n",
    "    state = (player_hand, dealer_hand, status)\n",
    "    return state"
   ]
  },
  {
   "cell_type": "code",
   "execution_count": null,
   "metadata": {
    "collapsed": false
   },
   "outputs": [],
   "source": []
  },
  {
   "cell_type": "code",
   "execution_count": null,
   "metadata": {
    "collapsed": false
   },
   "outputs": [],
   "source": []
  },
  {
   "cell_type": "code",
   "execution_count": 8,
   "metadata": {
    "collapsed": false
   },
   "outputs": [],
   "source": [
    "import operator\n",
    "class LearningAgent():\n",
    "    \"\"\"An agent that learns to play blackjack.\"\"\"\n",
    "\n",
    "    def __init__(self):\n",
    "        self.alpha = 0.8\n",
    "        self.gamma = 0.2\n",
    "        self.reset()\n",
    "        self.QTable = {}\n",
    "        \n",
    "#         Gamma and alpha were gotten randomly, if you have a better way, do share\n",
    "\n",
    "    def reset(self):\n",
    "        self.game = initGame()\n",
    "\n",
    "    def get_action(self):\n",
    "        state = self.game[:2]\n",
    "        if state not in self.QTable.keys():\n",
    "            self.QTable[state] = {0: 1, 1: 1}\n",
    "            return random.choice(self.QTable[state].keys())\n",
    "\n",
    "        return max(self.QTable[state].iteritems(), key=operator.itemgetter(1))[0]\n",
    "\n",
    "    def get_max_q(self, state):\n",
    "        if state not in self.QTable.keys():\n",
    "            self.QTable[state] = {0: 1, 1: 1}\n",
    "\n",
    "        return max(self.QTable[state].values())\n",
    "    \n",
    "    def act(self, action):\n",
    "        self.game = play(self.game, action)\n",
    "        if self.game[2] == 1:\n",
    "            return 0\n",
    "        elif self.game[2] == 2:\n",
    "            return 2\n",
    "        elif self.game[2] == 3:\n",
    "            return 1\n",
    "        elif self.game[2] == 4:\n",
    "            return -1\n",
    "        \n",
    "    def learn(self, currState, action, reward, nextState):\n",
    "        \"\"\"d: refers to the destination state\"\"\"\n",
    "        maxQ = self.get_max_q(nextState)\n",
    "        qReward = self.alpha * (reward - self.gamma * maxQ - self.QTable[currState][action])\n",
    "        self.QTable[currState][action] += qReward\n",
    "\n",
    "    def play(self):\n",
    "        while self.game[2] == 1:\n",
    "            currState = self.game[:2]\n",
    "            # TODO: Select action according to your policy\n",
    "            action = self.get_action()\n",
    "\n",
    "            # Execute action and get reward\n",
    "            reward = self.act(action)\n",
    "            nextState = self.game[:2]\n",
    "\n",
    "            # Update Long term reward value\n",
    "            self.learn(currState, action, reward, nextState)\n",
    "    \n",
    "    def train(self, epochs):\n",
    "        for i in xrange(epochs):\n",
    "            self.play()\n",
    "            self.reset()"
   ]
  },
  {
   "cell_type": "code",
   "execution_count": null,
   "metadata": {
    "collapsed": false
   },
   "outputs": [],
   "source": []
  },
  {
   "cell_type": "code",
   "execution_count": 14,
   "metadata": {
    "collapsed": false
   },
   "outputs": [],
   "source": [
    "epochs = 100000\n",
    "agent = LearningAgent()\n",
    "agent.train(epochs)"
   ]
  },
  {
   "cell_type": "code",
   "execution_count": 15,
   "metadata": {
    "collapsed": false
   },
   "outputs": [
    {
     "data": {
      "text/plain": [
       "1172"
      ]
     },
     "execution_count": 15,
     "metadata": {},
     "output_type": "execute_result"
    }
   ],
   "source": [
    "len(agent.QTable.keys())"
   ]
  },
  {
   "cell_type": "code",
   "execution_count": null,
   "metadata": {
    "collapsed": true
   },
   "outputs": [],
   "source": [
    "trained_agent"
   ]
  }
 ],
 "metadata": {
  "kernelspec": {
   "display_name": "Python 2",
   "language": "python",
   "name": "python2"
  },
  "language_info": {
   "codemirror_mode": {
    "name": "ipython",
    "version": 2
   },
   "file_extension": ".py",
   "mimetype": "text/x-python",
   "name": "python",
   "nbconvert_exporter": "python",
   "pygments_lexer": "ipython2",
   "version": "2.7.12"
  }
 },
 "nbformat": 4,
 "nbformat_minor": 0
}
